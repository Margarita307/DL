{
 "cells": [
  {
   "cell_type": "code",
   "execution_count": 156,
   "metadata": {},
   "outputs": [],
   "source": [
    "from IPython.display import Latex\n",
    "import matplotlib.pyplot as plt\n",
    "import numpy as np\n",
    "import csv\n",
    "import pandas as pd\n",
    "import scipy.stats as st\n",
    "from sklearn import linear_model\n",
    "from sklearn.metrics import mean_squared_error, r2_score\n",
    "import math\n",
    "import random"
   ]
  },
  {
   "cell_type": "markdown",
   "metadata": {},
   "source": [
    "# Часть 1"
   ]
  },
  {
   "cell_type": "markdown",
   "metadata": {},
   "source": [
    "###  П. 1-2"
   ]
  },
  {
   "cell_type": "code",
   "execution_count": 97,
   "metadata": {},
   "outputs": [
    {
     "data": {
      "text/latex": [
       "\n",
       "Пусть A - событие \"убил обвиняемый\", B - событие \"на месте преступления найдена указанная группа крови\". \n",
       "Тогда\n",
       "$$\\\\$$\n",
       "$$P(A|B) = \\frac{P(B|A)*P(A)}{P(B)} = \\frac{(1 * 1/10^6)}{(1 * 1/10^6 + (10^6 - 1)/10^6 * 0.01)} \\approx 0.01\\%\\\\$$\n",
       "1) Прокурор: Пусть С - событие \"обвиняемый имеет найденную на месте преступления группу крови\". \n",
       "    Т.к. события \"не A\" и C - независимые\n",
       "    $$\\\\$$\n",
       "    $$P(С|\\overline{A})=P(С)=0.01\\\\$$\n",
       "    Далее, он посчитал\n",
       "    $$\\\\$$\n",
       "    $$\\\\1 - P(С|\\overline{A}) = P(-C)\\\\$$\n",
       "2) Адвокат оценил\n",
       "$$\\\\$$\n",
       "    $$\\frac{P(B|A)*P(A)}{P(С)} = \\frac{(1 * 1/10^6)}{0.01} = 0.01%$$. \n"
      ],
      "text/plain": [
       "<IPython.core.display.Latex object>"
      ]
     },
     "metadata": {},
     "output_type": "display_data"
    }
   ],
   "source": [
    "%%latex\n",
    "Пусть A - событие \"убил обвиняемый\", B - событие \"на месте преступления найдена указанная группа крови\". \n",
    "Тогда\n",
    "$$\\\\$$\n",
    "$$P(A|B) = \\frac{P(B|A)*P(A)}{P(B)} = \\frac{(1 * 1/10^6)}{(1 * 1/10^6 + (10^6 - 1)/10^6 * 0.01)} \\approx 0.01\\%\\\\$$\n",
    "1) Прокурор: Пусть С - событие \"обвиняемый имеет найденную на месте преступления группу крови\". \n",
    "    Т.к. события \"не A\" и C - независимые\n",
    "    $$\\\\$$\n",
    "    $$P(С|\\overline{A})=P(С)=0.01\\\\$$\n",
    "    Далее, он посчитал\n",
    "    $$\\\\$$\n",
    "    $$\\\\1 - P(С|\\overline{A}) = P(-C)\\\\$$\n",
    "2) Адвокат оценил\n",
    "$$\\\\$$\n",
    "    $$\\frac{P(B|A)*P(A)}{P(С)} = \\frac{(1 * 1/10^6)}{0.01} = 0.01%$$. "
   ]
  },
  {
   "cell_type": "markdown",
   "metadata": {},
   "source": [
    "###  П. 3"
   ]
  },
  {
   "cell_type": "code",
   "execution_count": 38,
   "metadata": {},
   "outputs": [
    {
     "data": {
      "image/png": "[encoded data removed]",
      "text/plain": [
       "<Figure size 432x288 with 1 Axes>"
      ]
     },
     "metadata": {
      "needs_background": "light"
     },
     "output_type": "display_data"
    }
   ],
   "source": [
    "x = np.arange(0.95, 1.00, 0.01)\n",
    "y_tp = 0.01 * x / (0.01 * x + 0.99 * 0.05)\n",
    "y_fp = 0.01 * 0.95 / (0.01 * 0.95 + 0.99 * (1 - x))\n",
    "plt.plot(x, y_tp, label = \"Increase true positive\")\n",
    "plt.plot(x, y_fp, label = \"Decrease false positive\")\n",
    "plt.legend(loc='best')\n",
    "plt.show()\n",
    "\n",
    "# Так.обр., на точность влияет только y_fp."
   ]
  },
  {
   "cell_type": "markdown",
   "metadata": {},
   "source": [
    "# Часть 2"
   ]
  },
  {
   "cell_type": "code",
   "execution_count": 113,
   "metadata": {},
   "outputs": [],
   "source": [
    "filename = 'owid-covid-data.csv'\n",
    "df_raw = pd.read_csv(filename)\n",
    "df_filtered = df_raw[(df_raw['date'] >= '2020-03-03') & (df_raw['location'] == 'Russia')]\n",
    "count = len(df_filtered)\n",
    "y = df_filtered['total_cases']\n",
    "delta_y = df_filtered['new_cases']\n",
    "x = np.arange(1, count + 1, 1)"
   ]
  },
  {
   "cell_type": "code",
   "execution_count": 114,
   "metadata": {},
   "outputs": [
    {
     "data": {
      "image/png": "[encoded data removed]",
      "text/plain": [
       "<Figure size 432x288 with 1 Axes>"
      ]
     },
     "metadata": {
      "needs_background": "light"
     },
     "output_type": "display_data"
    }
   ],
   "source": [
    "plt.plot(x, y, label = \"total_cases\")\n",
    "plt.plot(x, delta_y, label = \"new_cases\")\n",
    "plt.legend(loc='best')\n",
    "plt.show()"
   ]
  },
  {
   "cell_type": "code",
   "execution_count": 117,
   "metadata": {},
   "outputs": [],
   "source": [
    "y_train = y.head(50)\n",
    "y_train_ln = np.log(y_train)\n",
    "x_train = np.arange(1, 51, 1)\n",
    "y_test = y.tail(count - 50)\n",
    "y_test_ln = np.log(y_test)\n",
    "x_test = np.arange(51, count + 1, 1)"
   ]
  },
  {
   "cell_type": "markdown",
   "metadata": {},
   "source": [
    "### П. 2а"
   ]
  },
  {
   "cell_type": "code",
   "execution_count": 142,
   "metadata": {},
   "outputs": [
    {
     "name": "stdout",
     "output_type": "stream",
     "text": [
      "Coefficients: \n",
      " [0.19829091233588558, 1.6224462364488117]\n",
      "Mean squared error: 1099.10\n"
     ]
    }
   ],
   "source": [
    "regr = linear_model.LinearRegression()\n",
    "regr.fit(x_train.reshape(-1, 1), y_train_ln)\n",
    "y_pred_ln = regr.predict(x_test.reshape(-1, 1))\n",
    "# The coefficients\n",
    "print('Coefficients: \\n', [regr.coef_[0], regr.intercept_])\n",
    "# The mean squared error\n",
    "print('Mean squared error: %.2f'\n",
    "      % mean_squared_error(y_test_ln, y_pred_ln))"
   ]
  },
  {
   "cell_type": "markdown",
   "metadata": {},
   "source": [
    "### П. 2b"
   ]
  },
  {
   "cell_type": "code",
   "execution_count": 148,
   "metadata": {},
   "outputs": [],
   "source": [
    "sigma_map = 1/2 * math.sqrt(mean_squared_error(y_test_ln, y_pred_ln))\n",
    "\n",
    "prior_params_sigma = (.05, .05)\n",
    "prior_params_slope = (.05, .05)\n",
    "prior_params_intercept = (.05, .05)\n",
    "\n",
    "pri_sigma = st.norm(prior_params_sigma[0], prior_params_sigma[1]).pdf          \n",
    "pri_slope = st.norm(prior_params_slope[0], prior_params_slope[1]).pdf\n",
    "pri_intercept = st.norm(prior_params_intercept[0], prior_params_intercept[1]).pdf\n",
    "\n",
    "def likelihood(sigma, slope, intercept, xs, ys, n):\n",
    "    res = 0\n",
    "    for i in range(50):\n",
    "        res = res * 1/sqrt(2 * math.pi * sigma ** 2) * math.exp(-1/2/sigma ** 2 * (ys[i] - intercept - slope * xs[i]))\n",
    "    return res\n",
    "                   \n",
    "lk = lambda sigma, slope, intercept : likelihood(sigma, slope, intercept, x_train, y_train_ln, 50)\n",
    "                   \n",
    "post = lambda sigma, slope, intercept : lk(sigma, slope, intercept) * pri_sigma(sigma) * pri_slope(slope) * pri_intercept"
   ]
  },
  {
   "cell_type": "markdown",
   "metadata": {},
   "source": [
    "### П. 2c"
   ]
  },
  {
   "cell_type": "code",
   "execution_count": 162,
   "metadata": {},
   "outputs": [
    {
     "name": "stdout",
     "output_type": "stream",
     "text": [
      "int: 1.61 sl: 0.15\n",
      "1 мая: 36677\n",
      "1 июня: 3637908\n",
      "1 сентября: 3060756409264\n",
      "int: 1.58 sl: 0.19\n",
      "1 мая: 392347\n",
      "1 июня: 134479087\n",
      "1 сентября: 4485754904697298\n",
      "int: 1.61 sl: 0.24\n",
      "1 мая: 8120489\n",
      "1 июня: 13113646717\n",
      "1 сентября: 43516993632373538816\n",
      "int: 1.66 sl: 0.24\n",
      "1 мая: 8536836\n",
      "1 июня: 13785997761\n",
      "1 сентября: 45748157606893985792\n",
      "int: 1.57 sl: 0.23\n",
      "1 мая: 4281873\n",
      "1 июня: 5071585152\n",
      "1 сентября: 6706998409807136768\n",
      "int: 1.66 sl: 0.19\n",
      "1 мая: 425024\n",
      "1 июня: 145679456\n",
      "1 сентября: 4859360277018090\n",
      "int: 1.62 sl: 0.23\n",
      "1 мая: 4501409\n",
      "1 июня: 5331610884\n",
      "1 сентября: 7050873571670177792\n",
      "int: 1.66 sl: 0.19\n",
      "1 мая: 425024\n",
      "1 июня: 145679456\n",
      "1 сентября: 4859360277018090\n",
      "int: 1.58 sl: 0.23\n",
      "1 мая: 4324906\n",
      "1 июня: 5122555431\n",
      "1 сентября: 6774404864458934272\n",
      "int: 1.64 sl: 0.23\n",
      "1 мая: 4592343\n",
      "1 июня: 5439316568\n",
      "1 сентября: 7193310666177176576\n"
     ]
    },
    {
     "data": {
      "image/png": "[encoded data removed]",
      "text/plain": [
       "<Figure size 432x288 with 1 Axes>"
      ]
     },
     "metadata": {
      "needs_background": "light"
     },
     "output_type": "display_data"
    }
   ],
   "source": [
    "#03.03.2020 - 63 день года (1), т.е. будем далее вычитать 62\n",
    "#01.05.2020 - 122 день года (60)\n",
    "#01.06.2020 - 153 день года (91)\n",
    "#01.09.2020 - 245 день года (183)\n",
    "\n",
    "xs = np.arange(50, 200, 1)\n",
    "xs_slope = np.arange(regr.coef_[0] - 0.05, regr.coef_[0] + 0.06, 0.01)\n",
    "xs_intercept = np.arange(regr.intercept_ - 0.05, regr.intercept_ + 0.06, 0.01)\n",
    "\n",
    "random.seed(9001)\n",
    "for j in range(10):\n",
    "    slope = xs_slope[random.randint(0, 9)]\n",
    "    intercept = xs_intercept[random.randint(0, 9)]\n",
    "    get_y = lambda x: math.exp(intercept + slope * x)\n",
    "    ys = [ get_y(x) for x in xs ]\n",
    "    params_str = f\"int: {intercept:.2f} sl: {slope:.2f}\"\n",
    "    plt.plot(xs, ys, label = params_str)\n",
    "    print(params_str)\n",
    "    print(f\"1 мая: {round(get_y(60))}\")\n",
    "    print(f\"1 июня: {round(get_y(91))}\")\n",
    "    print(f\"1 сентября: {round(get_y(183))}\")\n",
    "\n",
    "plt.legend(loc='upper left')\n",
    "plt.show()"
   ]
  }
 ],
 "metadata": {
  "kernelspec": {
   "display_name": "Python 3",
   "language": "python",
   "name": "python3"
  },
  "language_info": {
   "codemirror_mode": {
    "name": "ipython",
    "version": 3
   },
   "file_extension": ".py",
   "mimetype": "text/x-python",
   "name": "python",
   "nbconvert_exporter": "python",
   "pygments_lexer": "ipython3",
   "version": "3.8.3"
  }
 },
 "nbformat": 4,
 "nbformat_minor": 1
}
