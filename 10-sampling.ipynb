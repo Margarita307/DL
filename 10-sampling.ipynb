{
 "cells": [
  {
   "cell_type": "code",
   "execution_count": null,
   "metadata": {},
   "outputs": [],
   "source": [
    "import pandas as pd\n",
    "import numpy as np\n",
    "import matplotlib as mpl\n",
    "import matplotlib.pyplot as plt\n",
    "import seaborn as sns\n",
    "from matplotlib.collections import LineCollection\n",
    "import warnings\n",
    "warnings.filterwarnings('ignore')\n",
    "from collections import OrderedDict\n",
    "from time import time\n",
    "\n",
    "import numpy as np\n",
    "import scipy as sp\n",
    "import pandas as pd\n",
    "\n",
    "from scipy.optimize import fmin_powell\n",
    "from scipy import integrate\n",
    "from scipy import linalg\n",
    "\n",
    "from sklearn.preprocessing import normalize\n",
    "from sklearn import linear_model\n",
    "from sklearn.utils.testing import ignore_warnings\n",
    "from sklearn.exceptions import ConvergenceWarning\n",
    "\n",
    "np.set_printoptions(precision=4, suppress=True)\n",
    "\n",
    "from collections import Counter\n",
    "from Levenshtein import distance as levenshtein_distance\n",
    "\n",
    "sns.set_style(\"whitegrid\")\n",
    "sns.set_palette(\"colorblind\")\n",
    "palette = sns.color_palette()\n",
    "figsize = (15,8)\n",
    "legend_fontsize = 16\n",
    "\n",
    "from matplotlib import rc\n",
    "rc('font',**{'family':'sans-serif'})\n",
    "rc('text', usetex=True)\n",
    "rc('text.latex',preamble=r'\\usepackage[utf8]{inputenc}')\n",
    "rc('text.latex',preamble=r'\\usepackage[russian]{babel}')\n",
    "rc('axes', **{'titlesize': '16', 'labelsize': '16'})\n",
    "rc('legend', **{'fontsize': '16'})\n",
    "rc('figure', **{'dpi' : 200})"
   ]
  },
  {
   "cell_type": "markdown",
   "metadata": {},
   "source": [
    "## Алгоритм Метрополиса-Гастингса"
   ]
  },
  {
   "cell_type": "code",
   "execution_count": null,
   "metadata": {},
   "outputs": [],
   "source": [
    "# Точки -- это двумерные массивы x\n",
    "def q_sample(x, sigma=0.1):\n",
    "    return x + np.random.normal(0, sigma, 2)\n",
    "\n",
    "# Проверяем, будем ли принимать точку с новым логарифмом правдоподобия\n",
    "def metropolis_hastings_log_accept(l, l_new):\n",
    "    if l_new>l:\n",
    "        return True\n",
    "    else:\n",
    "        return (np.random.rand() < (np.exp(l_new-l)))\n",
    "\n",
    "def metropolis_hastings(func_log_likelihood, iterations, q_sigma=0.1, init_x=np.array([0, 0])):\n",
    "    cur_x = init_x\n",
    "    cur_l = func_log_likelihood(cur_x)\n",
    "    samples, accept_bit = [cur_x], [1]\n",
    "    for i in range(iterations):\n",
    "        new_x = q_sample(cur_x, sigma=q_sigma)\n",
    "        new_l = func_log_likelihood(new_x)\n",
    "        samples.append(new_x)\n",
    "        if (metropolis_hastings_log_accept(cur_l, new_l)):\n",
    "            cur_x, cur_l = new_x, new_l\n",
    "            accept_bit.append(1)\n",
    "        else:\n",
    "            accept_bit.append(0)\n",
    "    return np.array(samples), np.array(accept_bit)"
   ]
  },
  {
   "cell_type": "code",
   "execution_count": null,
   "metadata": {},
   "outputs": [],
   "source": [
    "alpha, mu_1, Sigma_1, mu_2, Sigma_2 = 2/3., np.array([3, 5]), 1.1*np.array([[2, -1], [-1, 1]]), np.array([-2, 2]), 1.1*np.array([[.5, 0.5], [0.5, 1.5]])\n",
    "\n",
    "num_samples = 100\n",
    "data_firstcomponent = np.array( np.random.rand(num_samples) < alpha )\n",
    "data_sample = np.zeros(shape=(num_samples, 2))\n",
    "data_sample[ data_firstcomponent ] = np.random.multivariate_normal(mu_1, Sigma_1, sum(data_firstcomponent))\n",
    "data_sample[ np.invert(data_firstcomponent) ] = np.random.multivariate_normal(mu_2, Sigma_2, sum(np.invert(data_firstcomponent)))\n",
    "\n",
    "fig = plt.figure(figsize=(20,10))\n",
    "ax = fig.subplots()\n",
    "ax.scatter(data_sample[:,0], data_sample[:,1], s=15)\n",
    "ax.set_xlim((-4, 7))\n",
    "ax.set_ylim((-2, 8))\n",
    "# plt.savefig(\"sample_mh0s.pdf\", bbox_inches='tight')"
   ]
  },
  {
   "cell_type": "code",
   "execution_count": null,
   "metadata": {},
   "outputs": [],
   "source": [
    "def gaussian_mixture_logpdf(x, alpha, mu1, Sigma1, mu2, Sigma2):\n",
    "    return np.log(alpha * sp.stats.multivariate_normal.pdf(x, mean=mu1, cov=Sigma1) +\n",
    "                  (1-alpha) * sp.stats.multivariate_normal.pdf(x, mean=mu2, cov=Sigma2))\n",
    "\n",
    "def get_last_accept(samples, accept_bit):\n",
    "    last_accept, last_bit = [], 0\n",
    "    for i in range(len(samples)-1):\n",
    "        last_accept.append(last_bit)\n",
    "        if accept_bit[i] == 1:\n",
    "            last_bit = i\n",
    "    return last_accept\n",
    "\n",
    "def plot_mh_walk(samples, last_accept, star_points=None, xlim=(-5,5), ylim=(-5,5), filename=None, texfile=None, figsize=(20, 10)):\n",
    "    fig = plt.figure(figsize=figsize)\n",
    "    ax = fig.subplots()\n",
    "    coll = LineCollection(np.array([[samples[last_accept[i-1]], samples[i]] for i in range(1, len(samples))]),\n",
    "                colors=np.array([palette[0] if x == 1 else palette[1] for x in accept_bit[1:]]), zorder=10)\n",
    "    ax.add_collection(coll)\n",
    "    ax.autoscale_view()\n",
    "    if star_points is not None:\n",
    "        ax.scatter( [x[0] for x in star_points], [x[1] for x in star_points], marker='*', s=300, color='r', zorder=20 )\n",
    "\n",
    "    ax.set_xlim(xlim)\n",
    "    ax.set_ylim(ylim)\n",
    "    \n",
    "    if texfile is not None:\n",
    "        tikzplotlib.save(texfile, axis_height='\\\\myplotheight', axis_width='\\\\myplotwidth')\n",
    "    \n",
    "    if filename is not None:\n",
    "        plt.savefig(filename, bbox_inches='tight')\n",
    "    \n",
    "#     plt.show()"
   ]
  },
  {
   "cell_type": "code",
   "execution_count": null,
   "metadata": {},
   "outputs": [],
   "source": [
    "num_samples = 5000\n",
    "samples, accept_bit = metropolis_hastings(\n",
    "    lambda x : gaussian_mixture_logpdf(x, alpha, mu_1, Sigma_1, mu_2, Sigma_2),\n",
    "    num_samples, init_x=np.array([0,0]), q_sigma=.75)\n",
    "\n",
    "last_accept = get_last_accept(samples, accept_bit)\n",
    "# accepted_samples, rejected_samples = samples[np.where(accept_bit == 1)], samples[np.where(accept_bit == 0)]\n",
    "# last_accept = get_last_accept(samples, accept_bit)\n",
    "print(\"Total: %d samples, accepted: %d samples\" % (num_samples, sum(accept_bit)))\n",
    "plot_mh_walk(samples, last_accept, star_points=[mu_1, mu_2], xlim=(-4, 6), ylim=(-2, 7) )\n",
    "plt.scatter(data_sample[:,0], data_sample[:,1], s=15, color='orange', alpha=0.25)"
   ]
  },
  {
   "cell_type": "code",
   "execution_count": null,
   "metadata": {},
   "outputs": [],
   "source": [
    "def my_plot_mixture(num_samples, filename, q_sigma=0.1, figsize=(20,10)):\n",
    "    samples, accept_bit = metropolis_hastings(\n",
    "        lambda x : gaussian_mixture_logpdf(x, alpha, mu_1, Sigma_1, mu_2, Sigma_2),\n",
    "        num_samples, init_x=np.array([0,0]), q_sigma=q_sigma)\n",
    "    accepted_samples, rejected_samples = samples[np.where(accept_bit == 1)], samples[np.where(accept_bit == 0)]\n",
    "    last_accept = get_last_accept(samples, accept_bit)\n",
    "    plot_mh_walk(samples, last_accept, star_points=[mu_1, mu_2], xlim=(-4, 7), ylim=(-2, 8), filename=filename, figsize=figsize )"
   ]
  },
  {
   "cell_type": "code",
   "execution_count": null,
   "metadata": {},
   "outputs": [],
   "source": [
    "my_plot_mixture(2000, None, figsize=(10,5))"
   ]
  },
  {
   "cell_type": "markdown",
   "metadata": {},
   "source": [
    "## Пример реального обучения"
   ]
  },
  {
   "cell_type": "code",
   "execution_count": null,
   "metadata": {},
   "outputs": [],
   "source": [
    "true_mu, true_Sigma = np.array([1, 3]), np.array([[4, -2], [-2, 2]])\n",
    "data_points = np.random.multivariate_normal(true_mu, true_Sigma, 10000)\n",
    "fig = plt.figure(figsize=figsize)\n",
    "plt.scatter(data_points[:,0], data_points[:,1], s=5)"
   ]
  },
  {
   "cell_type": "code",
   "execution_count": null,
   "metadata": {},
   "outputs": [],
   "source": [
    "data_sample = data_points[np.random.randint(0, 10000, 200)]\n",
    "fig = plt.figure(figsize=figsize)\n",
    "plt.scatter(data_sample[:,0], data_sample[:,1], s=5)\n",
    "\n",
    "# tikzplotlib.save(\"sample_mh_sample.tex\", axis_height='\\\\myplotheight', axis_width='\\\\myplotwidth')\n",
    "# plt.show()"
   ]
  },
  {
   "cell_type": "code",
   "execution_count": null,
   "metadata": {},
   "outputs": [],
   "source": [
    "fig = plt.figure(figsize=(20,10))\n",
    "ax = fig.add_subplot(1,2,1)\n",
    "ax.hist( data_sample[:,0],bins=20)\n",
    "ax.set_xlabel(\"Значение X\")\n",
    "ax.set_ylabel(\"Частота\")\n",
    "ax = fig.add_subplot(1,2,2)\n",
    "ax.hist( data_sample[:,1],bins=20)\n",
    "ax.set_xlabel(\"Значение Y\")\n",
    "ax.set_ylabel(\"Частота\")\n",
    "\n",
    "# tikzplotlib.save(\"sample_mh_histogram.tex\", axis_height='\\\\myplotheight', axis_width='.48\\\\myplotwidth')\n",
    "# plt.show()"
   ]
  },
  {
   "cell_type": "code",
   "execution_count": null,
   "metadata": {},
   "outputs": [],
   "source": [
    "# p(theta | D) \\propto p(theta) * \\prod p(x_n | \\theta)\n",
    "def normal_log_likelihood(mu, Sigma):\n",
    "    return np.sum(sp.stats.multivariate_normal.logpdf(data_sample, mean=mu, cov=Sigma))\n",
    "\n",
    "samples, accept_bit = metropolis_hastings(\n",
    "    lambda x : normal_log_likelihood(x, true_Sigma),\n",
    "    300, init_x=np.array([0,0]))\n",
    "accepted_samples, rejected_samples = samples[np.where(accept_bit == 1)], samples[np.where(accept_bit == 0)]"
   ]
  },
  {
   "cell_type": "code",
   "execution_count": null,
   "metadata": {},
   "outputs": [],
   "source": [
    "normal_log_likelihood(np.array([0,0]), true_Sigma)"
   ]
  },
  {
   "cell_type": "code",
   "execution_count": null,
   "metadata": {
    "scrolled": true
   },
   "outputs": [],
   "source": [
    "print(samples[:150])\n",
    "print(accept_bit[:150])"
   ]
  },
  {
   "cell_type": "code",
   "execution_count": null,
   "metadata": {
    "scrolled": false
   },
   "outputs": [],
   "source": [
    "# data_sample = data_points[np.random.randint(0, 10000, 2000)]\n",
    "num_samples = 14500\n",
    "samples, accept_bit = metropolis_hastings(\n",
    "    lambda x : normal_log_likelihood(x, true_Sigma),\n",
    "    num_samples, init_x=np.array([0,0]), q_sigma=.05)\n",
    "\n",
    "last_accept = get_last_accept(samples, accept_bit)\n",
    "accepted_samples, rejected_samples = samples[np.where(accept_bit == 1)], samples[np.where(accept_bit == 0)]\n",
    "# last_accept = get_last_accept(samples, accept_bit)\n",
    "print(\"Total: %d samples, accepted: %d samples\" % (num_samples, sum(accept_bit)))\n",
    "plot_mh_walk(samples, last_accept, star_points=[true_mu], xlim=(-0.5, 1.5), ylim=(.5, 3.5) )\n",
    "# plt.scatter(data_sample[:,0], data_sample[:,1], s=65, color='orange', alpha=0.9)\n"
   ]
  },
  {
   "cell_type": "code",
   "execution_count": null,
   "metadata": {},
   "outputs": [],
   "source": [
    "n, n_burn_in = 50, 50\n",
    "samples_movingaverage = np.apply_along_axis( lambda x : np.convolve(x, np.ones((n,))/n, mode='valid'), axis=0, arr=accepted_samples)"
   ]
  },
  {
   "cell_type": "code",
   "execution_count": null,
   "metadata": {},
   "outputs": [],
   "source": [
    "samples_movingaverage.shape"
   ]
  },
  {
   "cell_type": "code",
   "execution_count": null,
   "metadata": {},
   "outputs": [],
   "source": [
    "fig = plt.figure(figsize=(20,10))\n",
    "ax1 = fig.add_subplot(1,2,1)\n",
    "ax1.hlines(1, 0, len(accepted_samples), color='orange', linestyle='dashed')\n",
    "ax1.plot(accepted_samples[:, 0])\n",
    "ax1.plot(np.arange(n/2, len(accepted_samples)-n/2+1), samples_movingaverage[:,0], color='g')\n",
    "ax1.set_xlim((0, len(accepted_samples)))\n",
    "\n",
    "ax2 = fig.add_subplot(1,2,2)\n",
    "ax2.hlines(3, 0, len(accepted_samples), color='orange', linestyle='dashed')\n",
    "ax2.plot(accepted_samples[:, 1])\n",
    "ax2.plot(np.arange(n/2, len(accepted_samples)-n/2+1), samples_movingaverage[:,1], color='g')\n",
    "ax2.set_xlim((0, len(accepted_samples)))\n",
    "\n",
    "# tikzplotlib.save(\"sample_mh_ma.tex\", axis_height='\\\\myplotheight', axis_width='.48\\\\myplotwidth')"
   ]
  },
  {
   "cell_type": "code",
   "execution_count": null,
   "metadata": {},
   "outputs": [],
   "source": []
  },
  {
   "cell_type": "code",
   "execution_count": null,
   "metadata": {},
   "outputs": [],
   "source": []
  },
  {
   "cell_type": "code",
   "execution_count": null,
   "metadata": {},
   "outputs": [],
   "source": []
  }
 ],
 "metadata": {
  "kernelspec": {
   "display_name": "Python 3",
   "language": "python",
   "name": "python3"
  },
  "language_info": {
   "codemirror_mode": {
    "name": "ipython",
    "version": 3
   },
   "file_extension": ".py",
   "mimetype": "text/x-python",
   "name": "python",
   "nbconvert_exporter": "python",
   "pygments_lexer": "ipython3",
   "version": "3.8.5"
  }
 },
 "nbformat": 4,
 "nbformat_minor": 2
}
