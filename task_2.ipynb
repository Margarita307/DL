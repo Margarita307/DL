{
 "cells": [
  {
   "cell_type": "code",
   "execution_count": 1,
   "metadata": {},
   "outputs": [],
   "source": [
    "import pandas as pd\n",
    "import numpy as np\n",
    "import matplotlib.pyplot as plt\n",
    "from sklearn.linear_model import LogisticRegression"
   ]
  },
  {
   "cell_type": "code",
   "execution_count": 2,
   "metadata": {},
   "outputs": [],
   "source": [
    "players = pd.read_pickle('players.pkl')\n",
    "results = pd.read_pickle('results.pkl')\n",
    "tournaments = pd.read_pickle('tournaments.pkl')"
   ]
  },
  {
   "cell_type": "markdown",
   "metadata": {},
   "source": [
    "### Подсчет сложности турнира как средняя сложность вопроса"
   ]
  },
  {
   "cell_type": "code",
   "execution_count": 5,
   "metadata": {},
   "outputs": [
    {
     "name": "stdout",
     "output_type": "stream",
     "text": [
      "687\n",
      "687\n",
      "422\n",
      "422\n",
      "1109\n"
     ]
    }
   ],
   "source": [
    "tournament_number_of_questions = {}\n",
    "tournament_complexity_2019 = {}\n",
    "tournament_complexity_2019_no_zeros = {}\n",
    "tournament_complexity_2020 = {}\n",
    "tournament_complexity_2020_no_zeros = {}\n",
    "for tournament in tournaments.values():\n",
    "    questionQty = tournament['questionQty']\n",
    "    res = 0\n",
    "    num_of_questions = 0\n",
    "    if questionQty is not None:\n",
    "        for complexity, num_of_questions_with_complexity in questionQty.items():\n",
    "            res += int(complexity) * num_of_questions_with_complexity\n",
    "            num_of_questions += num_of_questions_with_complexity\n",
    "    if tournament['dateStart'] >= '2019-01-01' and tournament['dateStart'] < '2020-01-01':\n",
    "        if num_of_questions != 0:\n",
    "            tournament_complexity_2019[tournament['id']] = res/num_of_questions\n",
    "        else:\n",
    "            tournament_complexity_2019[tournament['id']] = 0\n",
    "        if res != 0:\n",
    "            tournament_complexity_2019_no_zeros[tournament['id']] = res/num_of_questions\n",
    "        tournament_number_of_questions[tournament['id']] = num_of_questions\n",
    "    elif tournament['dateStart'] >= '2020-01-01':\n",
    "        if num_of_questions != 0:\n",
    "            tournament_complexity_2020[tournament['id']] = res/num_of_questions\n",
    "        else:\n",
    "            tournament_complexity_2020[tournament['id']] = 0\n",
    "        if res != 0:\n",
    "            tournament_complexity_2020_no_zeros[tournament['id']] = res/num_of_questions\n",
    "        tournament_number_of_questions[tournament['id']] = num_of_questions\n",
    "            \n",
    "print(len(tournament_complexity_2019))\n",
    "print(len(tournament_complexity_2019_no_zeros))\n",
    "print(len(tournament_complexity_2020))\n",
    "print(len(tournament_complexity_2020_no_zeros))\n",
    "print(len(tournament_number_of_questions))\n",
    "\n",
    "tournament_complexity = tournament_complexity_2019\n",
    "tournament_complexity.update(tournament_complexity_2020)"
   ]
  },
  {
   "cell_type": "markdown",
   "metadata": {},
   "source": [
    "### Подсчет сложности вопросов как процента правильных ответов и оценка рейтинга игроков "
   ]
  },
  {
   "cell_type": "code",
   "execution_count": 8,
   "metadata": {},
   "outputs": [
    {
     "name": "stdout",
     "output_type": "stream",
     "text": [
      "262\n"
     ]
    }
   ],
   "source": [
    "tournament_ids_with_mask_number_of_questions_inconsistency = set()\n",
    "\n",
    "player_real_rating_by_the_beginning_of_2019 = {}\n",
    "player_real_rating_by_the_end_of_2019 = {}\n",
    "player_estimated_rating_increase_in_2019 = {}\n",
    "\n",
    "player_real_rating_by_the_beginning_of_2020 = {}\n",
    "player_real_rating_by_the_end_of_2020 = {}\n",
    "player_estimated_rating_increase_in_2020 = {}\n",
    "\n",
    "for tournament_id, tournament_result in results.items():\n",
    "    if tournament_id in tournament_number_of_questions:\n",
    "        tournament_masks = []\n",
    "        for team_result in tournament_result:\n",
    "            if len(team_result['teamMembers']) > 0 and 'mask' in team_result and team_result['mask'] != None and len(team_result['mask']) >= tournament_number_of_questions[tournament_id]:\n",
    "                team_mask = []\n",
    "                for i in range(tournament_number_of_questions[tournament_id]):\n",
    "                    question_result = team_result['mask'][i]\n",
    "                    if question_result == '0' or question_result == '1':\n",
    "                        team_mask.append(float(question_result))\n",
    "                    else:\n",
    "                        team_mask.append(0.5)\n",
    "                tournament_masks.append(team_mask)\n",
    "        if len(tournament_masks) == 0:\n",
    "            tournament_ids_with_mask_number_of_questions_inconsistency.add(tournament_id)\n",
    "        else:\n",
    "            tournament_question_complexity = 1 - np.mean(np.array(tournament_masks), axis=0)\n",
    "            for team_result in tournament_result:\n",
    "                if len(team_result['teamMembers']) > 0 and 'mask' in team_result and team_result['mask'] != None and len(team_result['mask']) >= tournament_number_of_questions[tournament_id]:\n",
    "                    team_mask = []\n",
    "                    for i in range(tournament_number_of_questions[tournament_id]):\n",
    "                        question_result = team_result['mask'][i]\n",
    "                        if question_result == '0' or question_result == '1':\n",
    "                            team_mask.append(float(question_result))\n",
    "                        else:\n",
    "                            team_mask.append(0.5)\n",
    "                    estimated_rating_increase = tournament_complexity[tournament_id] * np.dot(tournament_question_complexity, team_mask)\n",
    "                    for player in team_result['teamMembers']:\n",
    "                        player_id = player['player']['id']\n",
    "                        player_rating = player['rating']\n",
    "                        if tournaments[tournament_id]['dateStart'] < '2020-01-01':\n",
    "                            if player_id not in player_real_rating_by_the_beginning_of_2019:\n",
    "                                player_real_rating_by_the_beginning_of_2019[player_id] = player_rating\n",
    "                                player_real_rating_by_the_end_of_2019[player_id] = player_rating\n",
    "                                player_estimated_rating_increase_in_2019[player_id] = estimated_rating_increase\n",
    "                            else:\n",
    "                                player_real_rating_by_the_end_of_2019[player_id] = player_rating\n",
    "                                player_estimated_rating_increase_in_2019[player_id] += estimated_rating_increase\n",
    "                        else:\n",
    "                            if player_id not in player_real_rating_by_the_beginning_of_2020:\n",
    "                                player_real_rating_by_the_beginning_of_2020[player_id] = player_rating\n",
    "                                player_real_rating_by_the_end_of_2020[player_id] = player_rating\n",
    "                                player_estimated_rating_increase_in_2020[player_id] = estimated_rating_increase\n",
    "                            else:\n",
    "                                player_real_rating_by_the_end_of_2020[player_id] = player_rating\n",
    "                                player_estimated_rating_increase_in_2020[player_id] += estimated_rating_increase\n",
    "                        \n",
    "print(len(tournament_ids_with_mask_number_of_questions_inconsistency))"
   ]
  },
  {
   "cell_type": "markdown",
   "metadata": {},
   "source": [
    "### Baseline-модель, обучающая рейтинг-лист игроков"
   ]
  },
  {
   "cell_type": "code",
   "execution_count": 49,
   "metadata": {},
   "outputs": [
    {
     "name": "stdout",
     "output_type": "stream",
     "text": [
      "57429\n",
      "57429\n",
      "30409\n",
      "30409\n",
      "0.3923989515795282\n"
     ]
    },
    {
     "data": {
      "image/png": "[encoded data removed]",
      "text/plain": [
       "<Figure size 432x288 with 1 Axes>"
      ]
     },
     "metadata": {
      "needs_background": "light"
     },
     "output_type": "display_data"
    }
   ],
   "source": [
    "def get_category_upper_borders(array, num_of_categories):\n",
    "    array_sorted = np.sort(array)\n",
    "    category_size = int(len(array_sorted) / num_of_categories)\n",
    "    category_upper_borders = []\n",
    "    for i in range(num_of_categories):\n",
    "        category_upper_border_index = (i + 1) * category_size - 1\n",
    "        category_upper_borders.append(array_sorted[category_upper_border_index])\n",
    "    return category_upper_borders\n",
    "\n",
    "def get_category(element, category_upper_borders):\n",
    "    num_of_categories = len(category_upper_borders)\n",
    "    for i in range(num_of_categories):\n",
    "        if element <= category_upper_borders[i]:\n",
    "            return i\n",
    "    return num_of_categories - 1\n",
    "\n",
    "x_train = np.array(list(player_estimated_rating_increase_in_2019.values()))\n",
    "print(len(x_train))\n",
    "y_train = np.array(list(player_real_rating_by_the_end_of_2019.values()))\n",
    "print(len(y_train))\n",
    "x_train = x_train[y_train != 0]\n",
    "print(len(x_train))\n",
    "y_train = y_train[y_train != 0]\n",
    "print(len(y_train))\n",
    "x_train = np.interp(x_train, (x_train.min(), x_train.max()), (0, 1))\n",
    "plt.scatter(x_train, y_train, marker='.')\n",
    "plt.xlabel(\"Estimated rating increase during the period\")\n",
    "plt.ylabel(\"Actual rating by the end of the period\")\n",
    "category_upper_borders = get_category_upper_borders(y_train, 20)\n",
    "y_train = np.array([get_category(y, category_upper_borders) for y in y_train])\n",
    "for border in category_upper_borders:\n",
    "    plt.axhline(y=border, color='red')\n",
    "    \n",
    "clf = LogisticRegression(random_state=0).fit(x_train.reshape(-1, 1), y_train)\n",
    "\n",
    "x_test = np.array(list(player_estimated_rating_increase_in_2020.values()))\n",
    "x_test = np.interp(x_test, (x_test.min(), x_test.max()), (0, 1))\n",
    "y_test = np.array(list(player_real_rating_by_the_end_of_2020.values()))\n",
    "y_test = np.array([get_category(y, category_upper_borders) for y in y_test])\n",
    "\n",
    "score = clf.score(x_test.reshape(-1, 1), y_test)\n",
    "print(score)"
   ]
  }
 ],
 "metadata": {
  "kernelspec": {
   "display_name": "Python 3",
   "language": "python",
   "name": "python3"
  },
  "language_info": {
   "codemirror_mode": {
    "name": "ipython",
    "version": 3
   },
   "file_extension": ".py",
   "mimetype": "text/x-python",
   "name": "python",
   "nbconvert_exporter": "python",
   "pygments_lexer": "ipython3",
   "version": "3.8.5"
  }
 },
 "nbformat": 4,
 "nbformat_minor": 4
}
